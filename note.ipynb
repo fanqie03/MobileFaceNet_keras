{
 "cells": [
  {
   "cell_type": "markdown",
   "metadata": {},
   "source": [
    "# lr_schedule"
   ]
  },
  {
   "cell_type": "code",
   "execution_count": 1,
   "metadata": {},
   "outputs": [
    {
     "name": "stdout",
     "output_type": "stream",
     "text": [
      "epoch:0,  lr:0.1\n",
      "epoch:1,  lr:0.1\n",
      "epoch:2,  lr:0.1\n",
      "epoch:3,  lr:0.1\n",
      "epoch:4,  lr:0.1\n",
      "epoch:5,  lr:0.01\n",
      "epoch:6,  lr:0.01\n",
      "epoch:7,  lr:0.01\n",
      "epoch:8,  lr:0.001\n",
      "epoch:9,  lr:0.001\n",
      "epoch:10,  lr:0.0001\n",
      "epoch:11,  lr:0.0001\n",
      "epoch:12,  lr:1e-05\n"
     ]
    }
   ],
   "source": [
    "lr_schedule = [4, 7, 9, 11]\n",
    "values=[0.1, 0.01, 0.001, 0.0001, 0.00001]\n",
    "\n",
    "def learning_rate_schedule(epoch, lr, boundaries, values):\n",
    "    \"\"\"\n",
    "    # Argument:\n",
    "        epoch: now epoch\n",
    "        lr: learning rate to schedule\n",
    "        boundaries: Number of epochs for learning rate piecewise.\n",
    "        values: target value of learning rate\n",
    "    \"\"\"\n",
    "    if epoch <= boundaries[0]:\n",
    "        lr = values[0]\n",
    "    for low, high, v in zip(boundaries[:-1],boundaries[1:],values[1:]):\n",
    "        if low < epoch <= high:\n",
    "            lr = v\n",
    "    if epoch > boundaries[-1]:\n",
    "        lr = values[-1]\n",
    "    return lr\n",
    "\n",
    "lr = 0\n",
    "\n",
    "for i in range(13):\n",
    "    lr = learning_rate_schedule(i,lr,lr_schedule,values)\n",
    "    print('epoch:{},  lr:{}'.format(i,lr))"
   ]
  },
  {
   "cell_type": "code",
   "execution_count": null,
   "metadata": {},
   "outputs": [],
   "source": []
  }
 ],
 "metadata": {
  "kernelspec": {
   "display_name": "Python 3",
   "language": "python",
   "name": "python3"
  },
  "language_info": {
   "codemirror_mode": {
    "name": "ipython",
    "version": 3
   },
   "file_extension": ".py",
   "mimetype": "text/x-python",
   "name": "python",
   "nbconvert_exporter": "python",
   "pygments_lexer": "ipython3",
   "version": "3.7.3"
  }
 },
 "nbformat": 4,
 "nbformat_minor": 2
}
